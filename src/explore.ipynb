{
    "cells": [
        {
            "cell_type": "markdown",
            "metadata": {},
            "source": [
                "# Explore here"
            ]
        },
        {
            "cell_type": "code",
            "execution_count": 29,
            "metadata": {},
            "outputs": [],
            "source": [
                "import os\n",
                "from dotenv import load_dotenv\n",
                "import spotipy\n",
                "from spotipy.oauth2 import SpotifyClientCredentials\n",
                "import pandas as pd\n",
                "import pandas as pd\n",
                "import matplotlib.pyplot as plt"
            ]
        },
        {
            "cell_type": "code",
            "execution_count": 30,
            "metadata": {},
            "outputs": [
                {
                    "name": "stdout",
                    "output_type": "stream",
                    "text": [
                        "Track: In the End\n",
                        "\n",
                        "Track: Numb\n",
                        "\n",
                        "Track: Somewhere I Belong\n",
                        "\n",
                        "Track: The Emptiness Machine\n",
                        "\n",
                        "Track: What I've Done\n",
                        "\n",
                        "Track: Faint\n",
                        "\n",
                        "Track: One Step Closer\n",
                        "\n",
                        "Track: Crawling\n",
                        "\n",
                        "Track: Heavy Is the Crown\n",
                        "\n",
                        "Track: Bleed It Out\n",
                        "\n"
                    ]
                }
            ],
            "source": [
                "load_dotenv()\n",
                "\n",
                "client_id = os.getenv(\"CLIENT_ID\")\n",
                "client_secret = os.getenv(\"CLIENT_SECRET\")\n",
                "\n",
                "lz_uri = 'spotify:artist:6XyY86QOPPrYVGvF9ch6wz'\n",
                "\n",
                "auth_manager = SpotifyClientCredentials(client_id=client_id, client_secret=client_secret)\n",
                "spotify = spotipy.Spotify(auth_manager=auth_manager)\n",
                "\n",
                "results = spotify.artist_top_tracks(lz_uri)\n",
                "\n",
                "for track in results['tracks'][:10]:\n",
                "    print('Track:', track['name'])\n",
                "    print()"
            ]
        },
        {
            "cell_type": "code",
            "execution_count": 31,
            "metadata": {},
            "outputs": [
                {
                    "name": "stdout",
                    "output_type": "stream",
                    "text": [
                        "Top 3 canciones más populares de Linkin Park\n",
                        "             name                          album  popularity\n",
                        "0      In the End  Hybrid Theory (Bonus Edition)          89\n",
                        "1            Numb                        Meteora          87\n",
                        "4  What I've Done            Minutes to Midnight          84\n"
                    ]
                }
            ],
            "source": [
                "load_dotenv()\n",
                "\n",
                "client_id = os.getenv(\"CLIENT_ID\")\n",
                "client_secret = os.getenv(\"CLIENT_SECRET\")\n",
                "\n",
                "auth_manager = SpotifyClientCredentials(client_id=client_id, client_secret=client_secret)\n",
                "spotify = spotipy.Spotify(auth_manager=auth_manager)\n",
                "\n",
                "artist_uri = 'spotify:artist:6XyY86QOPPrYVGvF9ch6wz'\n",
                "\n",
                "results = spotify.artist_top_tracks(artist_uri)\n",
                "\n",
                "tracks_data = []\n",
                "for track in results['tracks']:\n",
                "    tracks_data.append({\n",
                "        'name': track['name'],\n",
                "        'popularity': track['popularity'],\n",
                "        'album': track['album']['name'],\n",
                "        'preview_url': track['preview_url'],\n",
                "        'cover_url': track['album']['images'][0]['url']\n",
                "    })\n",
                "\n",
                "df = pd.DataFrame(tracks_data)\n",
                "\n",
                "df_sorted = df.sort_values(by='popularity', ascending=False)\n",
                "\n",
                "top3_populares = df_sorted.head(3)\n",
                "\n",
                "print(\"Top 3 canciones más populares de Linkin Park\")\n",
                "print(top3_populares[['name', 'album', 'popularity']])\n",
                "\n"
            ]
        },
        {
            "cell_type": "code",
            "execution_count": null,
            "metadata": {},
            "outputs": [
                {
                    "data": {
                        "image/png": "[encoded data removed]",
                        "text/plain": [
                            "<Figure size 800x500 with 1 Axes>"
                        ]
                    },
                    "metadata": {},
                    "output_type": "display_data"
                },
                {
                    "name": "stdout",
                    "output_type": "stream",
                    "text": [
                        "Coeficiente de correlación duración-popularidad: 0.40\n"
                    ]
                }
            ],
            "source": [
                "load_dotenv()\n",
                "\n",
                "client_id = os.getenv(\"CLIENT_ID\")\n",
                "client_secret = os.getenv(\"CLIENT_SECRET\")\n",
                "\n",
                "auth_manager = SpotifyClientCredentials(client_id=client_id, client_secret=client_secret)\n",
                "spotify = spotipy.Spotify(auth_manager=auth_manager)\n",
                "\n",
                "lp_uri = 'spotify:artist:6XyY86QOPPrYVGvF9ch6wz'\n",
                "\n",
                "results = spotify.artist_top_tracks(lp_uri)\n",
                "\n",
                "tracks_data = [\n",
                "    {\n",
                "        'name': track['name'],\n",
                "        'duration_ms': track['duration_ms'],\n",
                "        'popularity': track['popularity']\n",
                "    }\n",
                "    for track in results['tracks']\n",
                "]\n",
                "\n",
                "df = pd.DataFrame(tracks_data)\n",
                "df['duration_min'] = df['duration_ms'] / 60000\n",
                "plt.figure(figsize=(8,5))\n",
                "plt.scatter(df['duration_min'], df['popularity'], alpha=0.8)\n",
                "plt.title(\"Relación entre duración y popularidad\")\n",
                "plt.xlabel(\"Duración\")\n",
                "plt.ylabel(\"Popularidad\")\n",
                "plt.grid(True)\n",
                "plt.show()\n",
                "\n",
                "corr = df['duration_min'].corr(df['popularity'])\n",
                "print(f\"Coeficiente de correlación duración-popularidad: {corr:.2f}\")\n"
            ]
        },
        {
            "cell_type": "code",
            "execution_count": null,
            "metadata": {},
            "outputs": [],
            "source": [
                "#No encuentro una correlación entre canciones más cortas y populares, es más la canción más popular es la más larga de la lista."
            ]
        }
    ],
    "metadata": {
        "kernelspec": {
            "display_name": "Python 3",
            "language": "python",
            "name": "python3"
        },
        "language_info": {
            "codemirror_mode": {
                "name": "ipython",
                "version": 3
            },
            "file_extension": ".py",
            "mimetype": "text/x-python",
            "name": "python",
            "nbconvert_exporter": "python",
            "pygments_lexer": "ipython3",
            "version": "3.11.4"
        },
        "orig_nbformat": 4
    },
    "nbformat": 4,
    "nbformat_minor": 2
}
